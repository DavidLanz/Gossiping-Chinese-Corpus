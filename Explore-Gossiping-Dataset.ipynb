{
 "cells": [
  {
   "cell_type": "markdown",
   "metadata": {
    "collapsed": true
   },
   "source": [
    "# PTT 中文語料\n",
    "\n",
    "@Justin Yang\n",
    "\n",
    "嗨，這裡是 PTT 中文語料集，蒐集自 PTT 八卦版於 2015 年至 2017 年 6 月的文章，我透過[某些假設與方法](https://github.com/zake7749/PTT-Chat-Generator)將每篇文章化簡為問答配對，其中問題來自文章的標題，而回覆是該篇文章的推文。\n",
    "不過目前這份資料集的噪聲還有點大，如果您發現有更棒的問答配對提取方法，還請與我聯繫。接下來我會簡單的說明一下這份資料集的資訊，祝各位開發順利 :>"
   ]
  },
  {
   "cell_type": "markdown",
   "metadata": {},
   "source": [
    "## 資料格式\n",
    "\n",
    "資料集中每一行都是一個問答配對，問與答之間以一個 tab (`\\t`) 區隔開，比如說:\n",
    "\n",
    "```\n",
    "matlab有什麼炫砲一點的圖？\t一樣的圖改一改顏色，有點半透明感覺更唬爛炫\n",
    "有沒有情人節吃什麼cp值最高的八卦\t吃屎啊廢話 免費的一餐\n",
    "姆咪一個人守得住街亭嗎?\t引來一堆肥宅穢土轉生 有機會喔\n",
    "有沒有被落石砸到該反省的八卦\t蔡英文執政就故意誇大報導 東森不意外\n",
    "情人節該帶女朋友去哪慶祝？\t用了一整年 對她好一點  送專業乾洗店吧\n",
    "```"
   ]
  },
  {
   "cell_type": "code",
   "execution_count": 11,
   "metadata": {
    "collapsed": true
   },
   "outputs": [
    {
     "name": "stdout",
     "output_type": "stream",
     "text": [
      "問答配對筆數: 418202\n"
     ]
    }
   ],
   "source": [
    "# a simple demo for loading dataset.\n",
    "\n",
    "qa_pairs = []\n",
    "\n",
    "with open('data/Gossiping-QA-Dataset.txt', 'r', encoding='utf-8') as dataset:\n",
    "    for line in dataset:\n",
    "        line = line.strip('\\n')\n",
    "        q,a = line.split('\\t')\n",
    "        qa_pairs.append([q,a])\n",
    "print(\"問答配對筆數:\",len(qa_pairs))"
   ]
  },
  {
   "cell_type": "markdown",
   "metadata": {},
   "source": [
    "## 探索資料集"
   ]
  },
  {
   "cell_type": "code",
   "execution_count": 4,
   "metadata": {},
   "outputs": [
    {
     "name": "stdout",
     "output_type": "stream",
     "text": [
      "Q: 該如何從臭肥宅變文青\nA: 說話打字中間一定要穿插英文\nQ: 哪一版《神鵰俠侶》最好看的八卦？\nA: 小龍女說你再打電話來我就要報警那版\nQ: 支那快要變世界最強的八卦\nA: 八卦是中國勞工權益>台灣勞工權益\nQ: 有沒有居酒屋老闆中秋節烤肉很爽的八卦?\nA: 八串才喝掉2瓶啤酒而已，不夠爽\nQ: 謙虛跟裝逼有何不同?\nA: 男高富帥女白富美都是謙虛，其餘的人都是裝逼\n"
     ]
    }
   ],
   "source": [
    "# randomly print the qa pairs\n",
    "import random\n",
    "\n",
    "for i in range(5):\n",
    "    idx = random.randint(0, len(qa_pairs))\n",
    "    print(\"Q:\", qa_pairs[idx][0])\n",
    "    print(\"A:\", qa_pairs[idx][1])"
   ]
  },
  {
   "cell_type": "code",
   "execution_count": 6,
   "metadata": {},
   "outputs": [],
   "source": [
    "# plot the distribution of sentences' length.\n",
    "\n",
    "from collections import defaultdict\n",
    "from matplotlib import pyplot as plt\n",
    "\n",
    "q_lens = defaultdict(int)\n",
    "a_lens = defaultdict(int)\n",
    "total_lens = defaultdict(int)\n",
    "\n",
    "for q,a in qa_pairs:\n",
    "    \n",
    "    length_q = len(q)\n",
    "    length_a = len(a)\n",
    "    \n",
    "    q_lens[length_q] += 1\n",
    "    a_lens[length_a] += 1\n",
    "    \n",
    "    total_lens[length_q] += 1\n",
    "    total_lens[length_a] += 1"
   ]
  },
  {
   "cell_type": "code",
   "execution_count": 7,
   "metadata": {},
   "outputs": [],
   "source": [
    "def plot_distribution(ctr, title):\n",
    "    \n",
    "    plt.bar(range(len(ctr)), ctr.values(), align='center')\n",
    "    plt.title(title)\n",
    "    plt.xticks(range(len(ctr)), ctr.keys())\n",
    "    plt.show()"
   ]
  },
  {
   "cell_type": "code",
   "execution_count": 8,
   "metadata": {},
   "outputs": [
    {
     "data": {
      "image/png": "[encoded data removed]",
      "text/plain": [
       "<matplotlib.figure.Figure at 0x7f26fc34dcf8>"
      ]
     },
     "metadata": {},
     "output_type": "display_data"
    }
   ],
   "source": [
    "plot_distribution(q_lens, \"The length distribution of Questions\")"
   ]
  },
  {
   "cell_type": "code",
   "execution_count": 9,
   "metadata": {},
   "outputs": [
    {
     "data": {
      "image/png": "[encoded data removed]",
      "text/plain": [
       "<matplotlib.figure.Figure at 0x7f26fc34dd30>"
      ]
     },
     "metadata": {},
     "output_type": "display_data"
    }
   ],
   "source": [
    "plot_distribution(a_lens, \"The length distribution of Answers\")"
   ]
  },
  {
   "cell_type": "code",
   "execution_count": 10,
   "metadata": {},
   "outputs": [
    {
     "data": {
      "image/png": "[encoded data removed]",
      "text/plain": [
       "<matplotlib.figure.Figure at 0x7f26fa267a90>"
      ]
     },
     "metadata": {},
     "output_type": "display_data"
    }
   ],
   "source": [
    "plot_distribution(total_lens, \"The length distribution of All\")"
   ]
  },
  {
   "cell_type": "code",
   "execution_count": 12,
   "metadata": {},
   "outputs": [
    {
     "name": "stdout",
     "output_type": "stream",
     "text": [
      "# Question without reply 650\n"
     ]
    }
   ],
   "source": [
    "# show the number of questions which do not have any reply.\n",
    "\n",
    "nb_no_reply = 0\n",
    "\n",
    "for q,a in qa_pairs:\n",
    "    if a == '沒有資料':\n",
    "        nb_no_reply += 1\n",
    "print(\"# Question without reply\", nb_no_reply)"
   ]
  }
 ],
 "metadata": {
  "kernelspec": {
   "display_name": "Python 2",
   "language": "python",
   "name": "python2"
  },
  "language_info": {
   "codemirror_mode": {
    "name": "ipython",
    "version": 2.0
   },
   "file_extension": ".py",
   "mimetype": "text/x-python",
   "name": "python",
   "nbconvert_exporter": "python",
   "pygments_lexer": "ipython2",
   "version": "2.7.6"
  }
 },
 "nbformat": 4,
 "nbformat_minor": 0
}